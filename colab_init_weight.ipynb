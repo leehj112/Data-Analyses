{
  "nbformat": 4,
  "nbformat_minor": 0,
  "metadata": {
    "colab": {
      "provenance": [],
      "authorship_tag": "ABX9TyPGZof5/uLx2mBg8eZxIaA/",
      "include_colab_link": true
    },
    "kernelspec": {
      "name": "python3",
      "display_name": "Python 3"
    },
    "language_info": {
      "name": "python"
    }
  },
  "cells": [
    {
      "cell_type": "markdown",
      "metadata": {
        "id": "view-in-github",
        "colab_type": "text"
      },
      "source": [
        "<a href=\"https://colab.research.google.com/github/leehj112/Data-Analyses/blob/master/colab_init_weight.ipynb\" target=\"_parent\"><img src=\"https://colab.research.google.com/assets/colab-badge.svg\" alt=\"Open In Colab\"/></a>"
      ]
    },
    {
      "cell_type": "code",
      "execution_count": 5,
      "metadata": {
        "colab": {
          "base_uri": "https://localhost:8080/"
        },
        "id": "UEUg5npPUaXy",
        "outputId": "79b76357-6a93-4aff-8f18-f3584926eda2"
      },
      "outputs": [
        {
          "output_type": "stream",
          "name": "stdout",
          "text": [
            "0 initializer1 :  [[ 0.830678  -1.2148647]\n",
            " [ 0.7490029 -0.7047204]]\n",
            "0 initializer2 :  [[ 1.7098777  -0.12379249]\n",
            " [-1.8377445   0.4658048 ]]\n",
            "1 initializer1 :  [[ 0.830678  -1.2148647]\n",
            " [ 0.7490029 -0.7047204]]\n",
            "1 initializer2 :  [[ 1.7098777  -0.12379249]\n",
            " [-1.8377445   0.4658048 ]]\n",
            "2 initializer1 :  [[ 0.830678  -1.2148647]\n",
            " [ 0.7490029 -0.7047204]]\n",
            "2 initializer2 :  [[ 1.7098777  -0.12379249]\n",
            " [-1.8377445   0.4658048 ]]\n"
          ]
        }
      ],
      "source": [
        "import tensorflow as tf\n",
        "from tensorflow.keras import initializers\n",
        "\n",
        "norm_init1 = tf.keras.initializers.RandomNormal(mean=0., stddev=1.)\n",
        "norm_init2 = tf.keras.initializers.RandomNormal(mean=0., stddev=1., seed=100)\n",
        "\n",
        "for i in range(3):\n",
        "  values1 = norm_init1(shape=(2, 2)).numpy()\n",
        "  values2 = norm_init2(shape=(2, 2)).numpy()\n",
        "  print(i, \"initializer1 : \", values1)\n",
        "  print(i, \"initializer2 : \", values2)"
      ]
    },
    {
      "cell_type": "code",
      "source": [
        "# 레이어 인스턴스 생성.\n",
        "exDense_layer = exDense(4)\n",
        "\n",
        "# build() 호출 전의 가중치 확인\n",
        "before_w = exDense_layer.weights\n",
        "print(\"all weights(before)\", before_w)\n",
        "\n",
        "# 입력 데이터 대입 및 결과 반환\n",
        "out = exDense_layer(tf.ones((3, 3)))\n",
        "print(\"\\noutputs:\", out)\n",
        "\n",
        "# build() 호출 후의 가중치 확인\n",
        "after_w = exDense_layer.weights\n",
        "print(\"\\nall weights(after)\", after_w)"
      ],
      "metadata": {
        "colab": {
          "base_uri": "https://localhost:8080/"
        },
        "id": "n8AiNZ0bUhps",
        "outputId": "2fb83aed-461d-48b2-ccf6-2be2e47b9181"
      },
      "execution_count": 6,
      "outputs": [
        {
          "output_type": "stream",
          "name": "stdout",
          "text": [
            "all weights(before) []\n",
            "\n",
            "outputs: tf.Tensor(\n",
            "[[ 0.09471354 -0.024614   -0.04051714 -0.12183122]\n",
            " [ 0.09471354 -0.024614   -0.04051714 -0.12183122]\n",
            " [ 0.09471354 -0.024614   -0.04051714 -0.12183122]], shape=(3, 4), dtype=float32)\n",
            "\n",
            "all weights(after) [<tf.Variable 'ex_dense/weight:0' shape=(3, 4) dtype=float32, numpy=\n",
            "array([[ 0.00776082,  0.02504162,  0.09348115, -0.07358729],\n",
            "       [-0.06918194,  0.02467989,  0.01830942,  0.10020339],\n",
            "       [ 0.09459344, -0.08853202, -0.01372014, -0.11219593]],\n",
            "      dtype=float32)>, <tf.Variable 'ex_dense/bias:0' shape=(4,) dtype=float32, numpy=array([ 0.06154121,  0.0141965 , -0.13858756, -0.03625138], dtype=float32)>]\n"
          ]
        }
      ]
    },
    {
      "cell_type": "code",
      "source": [
        "\n",
        "t_w = exDense_layer.trainable_weights\n",
        "print(\"\\ntraninable_weights\", t_w)\n",
        "\n",
        "nt_w = exDense_layer.non_trainable_weights\n",
        "print(\"\\nnon_traninable_weights\", nt_w)\n",
        "\n",
        "t_v = exDense_layer.trainable_variables\n",
        "print(\"\\ntraninable_variables\", t_v)\n",
        "\n",
        "nt_v = exDense_layer.non_trainable_variables\n",
        "print(\"\\nnon_traninable_variables\", nt_v)\n"
      ],
      "metadata": {
        "colab": {
          "base_uri": "https://localhost:8080/"
        },
        "id": "NVpgusOMUjFT",
        "outputId": "f34bd09a-a419-48fc-835b-036622b1479d"
      },
      "execution_count": 7,
      "outputs": [
        {
          "output_type": "stream",
          "name": "stdout",
          "text": [
            "\n",
            "traninable_weights [<tf.Variable 'ex_dense/weight:0' shape=(3, 4) dtype=float32, numpy=\n",
            "array([[ 0.00776082,  0.02504162,  0.09348115, -0.07358729],\n",
            "       [-0.06918194,  0.02467989,  0.01830942,  0.10020339],\n",
            "       [ 0.09459344, -0.08853202, -0.01372014, -0.11219593]],\n",
            "      dtype=float32)>, <tf.Variable 'ex_dense/bias:0' shape=(4,) dtype=float32, numpy=array([ 0.06154121,  0.0141965 , -0.13858756, -0.03625138], dtype=float32)>]\n",
            "\n",
            "non_traninable_weights []\n",
            "\n",
            "traninable_variables [<tf.Variable 'ex_dense/weight:0' shape=(3, 4) dtype=float32, numpy=\n",
            "array([[ 0.00776082,  0.02504162,  0.09348115, -0.07358729],\n",
            "       [-0.06918194,  0.02467989,  0.01830942,  0.10020339],\n",
            "       [ 0.09459344, -0.08853202, -0.01372014, -0.11219593]],\n",
            "      dtype=float32)>, <tf.Variable 'ex_dense/bias:0' shape=(4,) dtype=float32, numpy=array([ 0.06154121,  0.0141965 , -0.13858756, -0.03625138], dtype=float32)>]\n",
            "\n",
            "non_traninable_variables []\n"
          ]
        }
      ]
    },
    {
      "cell_type": "code",
      "source": [
        "import tensorflow as tf\n",
        "from tensorflow.keras import layers\n",
        "\n",
        "class exDense(layers.Layer):\n",
        "\n",
        "  def __init__(self, units=32):\n",
        "      super(exDense, self).__init__()\n",
        "      self.units = units\n",
        "\n",
        "  def build(self, input_shape):\n",
        "    self.w = self.add_weight(shape=(input_shape[-1], self.units),\n",
        "                          initializer='random_normal',\n",
        "                          trainable=True, name=\"weight\")\n",
        "    self.b = self.add_weight(shape=(self.units,),\n",
        "                              initializer='random_normal',\n",
        "                              trainable=True, name=\"bias\")\n",
        "  def call(self, inputs):\n",
        "      return tf.matmul(inputs, self.w) + self.b"
      ],
      "metadata": {
        "id": "6ZIVmFLqUkpY"
      },
      "execution_count": 8,
      "outputs": []
    }
  ]
}