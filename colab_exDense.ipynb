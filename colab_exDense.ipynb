{
  "nbformat": 4,
  "nbformat_minor": 0,
  "metadata": {
    "colab": {
      "provenance": [],
      "authorship_tag": "ABX9TyPftzvfkpPy5KFOjTLs7ZbG",
      "include_colab_link": true
    },
    "kernelspec": {
      "name": "python3",
      "display_name": "Python 3"
    },
    "language_info": {
      "name": "python"
    }
  },
  "cells": [
    {
      "cell_type": "markdown",
      "metadata": {
        "id": "view-in-github",
        "colab_type": "text"
      },
      "source": [
        "<a href=\"https://colab.research.google.com/github/leehj112/Data-Analyses/blob/master/colab_exDense.ipynb\" target=\"_parent\"><img src=\"https://colab.research.google.com/assets/colab-badge.svg\" alt=\"Open In Colab\"/></a>"
      ]
    },
    {
      "cell_type": "code",
      "execution_count": 1,
      "metadata": {
        "id": "Xq2pFp9VTpaE"
      },
      "outputs": [],
      "source": [
        "import tensorflow as tf\n",
        "from tensorflow.keras import layers\n",
        "\n",
        "class exDense(layers.Layer):\n",
        "\n",
        "  def __init__(self, units=32):\n",
        "      super(exDense, self).__init__()\n",
        "      self.units = units\n",
        "\n",
        "  def build(self, input_shape):\n",
        "    w_init = tf.random_normal_initializer()\n",
        "    self.w = tf.Variable(\n",
        "        initial_value=w_init(shape=(input_shape[-1], self.units),\n",
        "                             dtype='float32'), trainable=True, name=\"weight\")\n",
        "    b_init = tf.ones_initializer()\n",
        "    self.b = tf.Variable(\n",
        "        initial_value=b_init(shape=(self.units,), dtype='float32'),\n",
        "        trainable=False, name=\"bias\")\n",
        "\n",
        "  def call(self, inputs):\n",
        "      return tf.matmul(inputs, self.w) + self.b"
      ]
    },
    {
      "cell_type": "code",
      "source": [
        "# 레이어 인스턴스 생성.\n",
        "exDense_layer = exDense(4)\n",
        "\n",
        "# build() 호출 전의 가중치 확인\n",
        "before_w = exDense_layer.weights\n",
        "print(\"all weights(before)\", before_w)\n",
        "\n",
        "# 입력 데이터 대입 및 결과 반환\n",
        "out = exDense_layer(tf.ones((3, 3)))\n",
        "print(\"\\noutputs:\", out)\n",
        "\n",
        "# build() 호출 후의 가중치 확인\n",
        "after_w = exDense_layer.weights\n",
        "print(\"\\nall weights(after)\", after_w)"
      ],
      "metadata": {
        "colab": {
          "base_uri": "https://localhost:8080/"
        },
        "id": "1sPUJrC8TsCT",
        "outputId": "d9875421-c352-4027-dd3d-af6ff04209ef"
      },
      "execution_count": 2,
      "outputs": [
        {
          "output_type": "stream",
          "name": "stdout",
          "text": [
            "all weights(before) []\n",
            "\n",
            "outputs: tf.Tensor(\n",
            "[[0.98953885 0.9668753  0.98656106 1.0069402 ]\n",
            " [0.98953885 0.9668753  0.98656106 1.0069402 ]\n",
            " [0.98953885 0.9668753  0.98656106 1.0069402 ]], shape=(3, 4), dtype=float32)\n",
            "\n",
            "all weights(after) [<tf.Variable 'ex_dense/weight:0' shape=(3, 4) dtype=float32, numpy=\n",
            "array([[-0.00607165,  0.01810046, -0.07381652,  0.03056382],\n",
            "       [ 0.02299245, -0.05909666,  0.03664998, -0.04101245],\n",
            "       [-0.02738198,  0.00787152,  0.02372762,  0.01738882]],\n",
            "      dtype=float32)>, <tf.Variable 'ex_dense/bias:0' shape=(4,) dtype=float32, numpy=array([1., 1., 1., 1.], dtype=float32)>]\n"
          ]
        }
      ]
    },
    {
      "cell_type": "code",
      "source": [
        "t_w = exDense_layer.trainable_weights\n",
        "print(\"\\ntraninable_weights\", t_w)\n",
        "\n",
        "nt_w = exDense_layer.non_trainable_weights\n",
        "print(\"\\nnon_traninable_weights\", nt_w)\n",
        "\n",
        "t_v = exDense_layer.trainable_variables\n",
        "print(\"\\ntraninable_variables\", t_v)\n",
        "\n",
        "nt_v = exDense_layer.non_trainable_variables\n",
        "print(\"\\nnon_traninable_variables\", nt_v)\n"
      ],
      "metadata": {
        "colab": {
          "base_uri": "https://localhost:8080/"
        },
        "id": "wYiK1czGTtWy",
        "outputId": "3dc27863-3615-4592-f483-80db65baad40"
      },
      "execution_count": 3,
      "outputs": [
        {
          "output_type": "stream",
          "name": "stdout",
          "text": [
            "\n",
            "traninable_weights [<tf.Variable 'ex_dense/weight:0' shape=(3, 4) dtype=float32, numpy=\n",
            "array([[-0.00607165,  0.01810046, -0.07381652,  0.03056382],\n",
            "       [ 0.02299245, -0.05909666,  0.03664998, -0.04101245],\n",
            "       [-0.02738198,  0.00787152,  0.02372762,  0.01738882]],\n",
            "      dtype=float32)>]\n",
            "\n",
            "non_traninable_weights [<tf.Variable 'ex_dense/bias:0' shape=(4,) dtype=float32, numpy=array([1., 1., 1., 1.], dtype=float32)>]\n",
            "\n",
            "traninable_variables [<tf.Variable 'ex_dense/weight:0' shape=(3, 4) dtype=float32, numpy=\n",
            "array([[-0.00607165,  0.01810046, -0.07381652,  0.03056382],\n",
            "       [ 0.02299245, -0.05909666,  0.03664998, -0.04101245],\n",
            "       [-0.02738198,  0.00787152,  0.02372762,  0.01738882]],\n",
            "      dtype=float32)>]\n",
            "\n",
            "non_traninable_variables [<tf.Variable 'ex_dense/bias:0' shape=(4,) dtype=float32, numpy=array([1., 1., 1., 1.], dtype=float32)>]\n"
          ]
        }
      ]
    },
    {
      "cell_type": "code",
      "source": [
        "import tensorflow as tf\n",
        "from tensorflow.keras import layers\n",
        "\n",
        "class exDense(layers.Layer):\n",
        "\n",
        "  def __init__(self, units=32):\n",
        "      super(exDense, self).__init__()\n",
        "      self.units = units\n",
        "\n",
        "  def build(self, input_shape):\n",
        "    self.w = self.add_weight(shape=(input_shape[-1], self.units),\n",
        "                          initializer='random_normal',\n",
        "                          trainable=True, name=\"weight\")\n",
        "    self.b = self.add_weight(shape=(self.units,),\n",
        "                              initializer='random_normal',\n",
        "                              trainable=True, name=\"bias\")\n",
        "  def call(self, inputs):\n",
        "      return tf.matmul(inputs, self.w) + self.b"
      ],
      "metadata": {
        "id": "4YgbwxqdTur6"
      },
      "execution_count": 4,
      "outputs": []
    }
  ]
}