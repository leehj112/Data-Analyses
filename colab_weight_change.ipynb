{
  "nbformat": 4,
  "nbformat_minor": 0,
  "metadata": {
    "colab": {
      "name": "weight_change.ipynb",
      "provenance": [],
      "collapsed_sections": []
    },
    "kernelspec": {
      "name": "python3",
      "display_name": "Python 3"
    }
  },
  "cells": [
    {
      "cell_type": "code",
      "metadata": {
        "colab": {
          "base_uri": "https://localhost:8080/"
        },
        "id": "d0BnQs4KqF0z",
        "outputId": "65132615-6169-499e-ffe2-183b936d51af"
      },
      "source": [
        "import tensorflow as tf\n",
        "import tensorflow.keras.layers as keras_layers\n",
        "\n",
        "layer1 = keras_layers.Dense(1,\n",
        "                            kernel_initializer=tf.constant_initializer(5.))\n",
        "layer1_out = layer1(tf.convert_to_tensor([[1., 2., 3.]]))\n",
        "layer1.get_weights()"
      ],
      "execution_count": null,
      "outputs": [
        {
          "output_type": "execute_result",
          "data": {
            "text/plain": [
              "[array([[5.],\n",
              "        [5.],\n",
              "        [5.]], dtype=float32), array([0.], dtype=float32)]"
            ]
          },
          "metadata": {
            "tags": []
          },
          "execution_count": 31
        }
      ]
    },
    {
      "cell_type": "code",
      "metadata": {
        "colab": {
          "base_uri": "https://localhost:8080/"
        },
        "id": "t2-cR1b5qeaD",
        "outputId": "9f3ad30d-f9c6-453d-cf9c-683e4db57950"
      },
      "source": [
        "layer2 = keras_layers.Dense(1,\n",
        "                            kernel_initializer=tf.constant_initializer(2.))\n",
        "layer2_out = layer2(tf.convert_to_tensor([[10., 20., 30.]]))\n",
        "layer2.get_weights()"
      ],
      "execution_count": null,
      "outputs": [
        {
          "output_type": "execute_result",
          "data": {
            "text/plain": [
              "[array([[2.],\n",
              "        [2.],\n",
              "        [2.]], dtype=float32), array([0.], dtype=float32)]"
            ]
          },
          "metadata": {
            "tags": []
          },
          "execution_count": 27
        }
      ]
    },
    {
      "cell_type": "code",
      "metadata": {
        "colab": {
          "base_uri": "https://localhost:8080/"
        },
        "id": "pgPiafe8qlE4",
        "outputId": "1bbee31e-bb08-4a02-b5ae-caa165628822"
      },
      "source": [
        "layer2.set_weights(layer1.get_weights())\n",
        "layer2.get_weights()"
      ],
      "execution_count": null,
      "outputs": [
        {
          "output_type": "execute_result",
          "data": {
            "text/plain": [
              "[array([[5.],\n",
              "        [5.],\n",
              "        [5.]], dtype=float32), array([0.], dtype=float32)]"
            ]
          },
          "metadata": {
            "tags": []
          },
          "execution_count": 32
        }
      ]
    }
  ]
}